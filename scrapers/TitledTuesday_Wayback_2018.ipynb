{
  "nbformat": 4,
  "nbformat_minor": 0,
  "metadata": {
    "colab": {
      "provenance": []
    },
    "kernelspec": {
      "name": "python3",
      "display_name": "Python 3"
    },
    "language_info": {
      "name": "python"
    }
  },
  "cells": [
    {
      "cell_type": "code",
      "source": [
        "from google.colab import drive\n",
        "drive.mount('/content/drive')"
      ],
      "metadata": {
        "id": "F8HhBcV1XrBr",
        "colab": {
          "base_uri": "https://localhost:8080/"
        },
        "outputId": "5d4265bb-8581-48f4-8073-931f9d4d941d"
      },
      "execution_count": 1,
      "outputs": [
        {
          "output_type": "stream",
          "name": "stdout",
          "text": [
            "Mounted at /content/drive\n"
          ]
        }
      ]
    },
    {
      "cell_type": "code",
      "source": [
        "import requests\n",
        "from bs4 import BeautifulSoup\n",
        "import json\n",
        "import os\n"
      ],
      "metadata": {
        "id": "fYvgpFOaXsRU"
      },
      "execution_count": 2,
      "outputs": []
    },
    {
      "cell_type": "code",
      "source": [
        "def sort_key(url):\n",
        "    return int(url.split('-')[-1])"
      ],
      "metadata": {
        "id": "r7nASydml4fI"
      },
      "execution_count": 3,
      "outputs": []
    },
    {
      "cell_type": "code",
      "source": [
        "archive_links = [\n",
        "    # 'https://web.archive.org/web/20180531184723/https://www.chess.com/tournament/live/titled-tuesdays',\n",
        "    # 'https://web.archive.org/web/20170502043615/https://www.chess.com/tournament/live/titled-tuesdays',\n",
        "    # 'https://web.archive.org/web/20170404005219/https://www.chess.com/tournament/live/titled-tuesdays'\n",
        "]\n"
      ],
      "metadata": {
        "id": "8Vjs_zT4eZKo"
      },
      "execution_count": 14,
      "outputs": []
    },
    {
      "cell_type": "code",
      "source": [
        "tourn_links = []"
      ],
      "metadata": {
        "id": "PBAPPKTFAVQs"
      },
      "execution_count": 15,
      "outputs": []
    },
    {
      "cell_type": "code",
      "source": [
        "\n",
        "for i in archive_links:\n",
        "  r = requests.get(i)\n",
        "  soup = BeautifulSoup(r.content, 'html.parser')\n",
        "  tourn_list = soup.find('table', class_ = 'table with-row-highlight tournaments-list')\n",
        "  tourn_table_rows = tourn_list.find_all('tr')\n",
        "  tourn_table_rows = tourn_table_rows[1:]\n",
        "  for j in tourn_table_rows:\n",
        "    tourn_link = j.find('a', class_='clickable-e-link')['href']\n",
        "    parts = tourn_link.split(\"https://www.chess.com/\")\n",
        "    chess_com_link = \"https://www.chess.com/\" + parts[1]\n",
        "    tourn_links.append(chess_com_link)"
      ],
      "metadata": {
        "id": "dscEbz3V-D5x"
      },
      "execution_count": 16,
      "outputs": []
    },
    {
      "cell_type": "code",
      "source": [
        "tourn_links = list(set(tourn_links))\n",
        "tourn_links = sorted(tourn_links, key=sort_key, reverse=True)\n",
        "tourn_links"
      ],
      "metadata": {
        "colab": {
          "base_uri": "https://localhost:8080/"
        },
        "id": "4keMUAJgkaSn",
        "outputId": "fc9089d3-084c-4227-f8ed-17e4feb17ba1"
      },
      "execution_count": 19,
      "outputs": [
        {
          "output_type": "execute_result",
          "data": {
            "text/plain": [
              "['https://www.chess.com/tournament/live/-titled-tuesday-blitz-954936',\n",
              " 'https://www.chess.com/tournament/live/-biggest-ever-titled-tuesday-952610',\n",
              " 'https://www.chess.com/tournament/live/-titled-tuesday-blitz-948450',\n",
              " 'https://www.chess.com/tournament/live/-titled-tuesday-blitz-919983',\n",
              " 'https://www.chess.com/tournament/live/-masterclass-titled-tuesday-blitz-914248',\n",
              " 'https://www.chess.com/tournament/live/-masterclass-titled-tuesday-blitz-913741',\n",
              " 'https://www.chess.com/tournament/live/-masterclass-titled-tuesday-blitz-906896',\n",
              " 'https://www.chess.com/tournament/live/-masterclass-titled-tuesday-blitz-899622',\n",
              " 'https://www.chess.com/tournament/live/-masterclass-titled-tuesday-blitz-894012',\n",
              " 'https://www.chess.com/tournament/live/-masterclass-titled-tuesday-blitz-878114',\n",
              " 'https://www.chess.com/tournament/live/-masterclass-titled-tuesday-blitz-862996',\n",
              " 'https://www.chess.com/tournament/live/-titled-tuesday-32-blitz-851498',\n",
              " 'https://www.chess.com/tournament/live/-titled-tuesday-32-blitz-832833',\n",
              " 'https://www.chess.com/tournament/live/-qualifier-4-titled-tuesday-32-blitz-821669',\n",
              " 'https://www.chess.com/tournament/live/-qualifier-3-titled-tuesday-32-blitz-821668',\n",
              " 'https://www.chess.com/tournament/live/-qualifier-2-titled-tuesday-32-blitz-821653',\n",
              " 'https://www.chess.com/tournament/live/-qualifier-1-titled-tuesday-32-blitz-817562',\n",
              " 'https://www.chess.com/tournament/live/-titled-tuesday-32-blitz-800243',\n",
              " 'https://www.chess.com/tournament/live/titled-tuesday-32-blitz-789085',\n",
              " 'https://www.chess.com/tournament/live/-titled-tuesday-32-blitz-late-767969',\n",
              " 'https://www.chess.com/tournament/live/-titled-tuesday-32-blitz-early-767968',\n",
              " 'https://www.chess.com/tournament/live/-titled-tuesday-32-blitz-early-753535',\n",
              " 'https://www.chess.com/tournament/live/-titled-tuesday-32-blitz-late-753534',\n",
              " 'https://www.chess.com/tournament/live/-titled-tuesday-32-blitz-late-735591',\n",
              " 'https://www.chess.com/tournament/live/-titled-tuesday-32-blitz-early-735590',\n",
              " 'https://www.chess.com/tournament/live/-titled-tuesday-32-blitz-723840',\n",
              " 'https://www.chess.com/tournament/live/-titled-tuesday-32-blitz-723839',\n",
              " 'https://www.chess.com/tournament/live/-titled-tuesday-32-blitz-710217',\n",
              " 'https://www.chess.com/tournament/live/-titled-tuesday-32-blitz-710216',\n",
              " 'https://www.chess.com/tournament/live/-titled-tuesday-32-blitz-671914',\n",
              " 'https://www.chess.com/tournament/live/-titled-tuesday-32-blitz-671913',\n",
              " 'https://www.chess.com/tournament/live/-titled-tuesday-32-blitz-671912',\n",
              " 'https://www.chess.com/tournament/live/-titled-tuesday-32-blitz-671911',\n",
              " 'https://www.chess.com/tournament/live/-titled-tuesday-32-blitz-671910',\n",
              " 'https://www.chess.com/tournament/live/-titled-tuesday-32-blitz-671909',\n",
              " 'https://www.chess.com/tournament/live/-titled-tuesday-32-blitz-655591',\n",
              " 'https://www.chess.com/tournament/live/-titled-tuesday-32-blitz-655590',\n",
              " 'https://www.chess.com/tournament/live/-titled-tuesday-32-blitz-647976',\n",
              " 'https://www.chess.com/tournament/live/-titled-tuesday-32-blitz-646318',\n",
              " 'https://www.chess.com/tournament/live/-titled-tuesday-32-blitz-634756',\n",
              " 'https://www.chess.com/tournament/live/-titled-tuesday-32-blitz-634247',\n",
              " 'https://www.chess.com/tournament/live/-titled-tuesday-32-blitz-634246']"
            ]
          },
          "metadata": {},
          "execution_count": 19
        }
      ]
    },
    {
      "cell_type": "code",
      "source": [
        "for url in tourn_links:\n",
        "  parts = url.split('/')\n",
        "  tournament_id = parts[-1]\n",
        "  output_filename = f\"/content/drive/MyDrive/TTChesscom/Ranks/{tournament_id}.json\"\n",
        "  if os.path.exists(output_filename):\n",
        "    print(\"File already exists: \" + output_filename)\n",
        "    continue\n",
        "  r = requests.get(url+'?&players=100')\n",
        "  soup = BeautifulSoup(r.content, 'html.parser')\n",
        "  i_p = soup.find('div', class_ = 'index-pagination')\n",
        "  data_total_pages = 0\n",
        "  if i_p:\n",
        "    data_total_pages = int(i_p.find('div')['data-total-pages'])\n",
        "  print(\"total pages: \" + str(data_total_pages))\n",
        "\n",
        "  ranks  = []\n",
        "  rank = 0\n",
        "  for i in range(data_total_pages):\n",
        "    print('page: ' + str(i+1))\n",
        "    r = requests.get(url+'?&players='+str(i+1))\n",
        "    soup = BeautifulSoup(r.content, 'html.parser')\n",
        "    table = soup.find('table', class_ = 'table-component tournaments-live-view-results-table tournaments-live-view-extra-borders')\n",
        "    table_rows = table.find_all('tr')\n",
        "    table_rows = table_rows[1:]\n",
        "    for x in table_rows:\n",
        "      rank +=1\n",
        "      if rank%100 == 0:\n",
        "        print(\"completed: \"+str(rank))\n",
        "      username = x.select_one('.user-tagline-username').get_text(strip=True)\n",
        "      country = x.select_one('.country-flags-component')['v-tooltip']\n",
        "      rating = x.select_one('.user-rating').get_text(strip=True).replace('(','').replace(')','')\n",
        "      if (rating != 'Unrated'):\n",
        "        rating = int(rating)\n",
        "      title_element = x.select_one('.post-view-meta-title')\n",
        "      title = title_element.get_text(strip=True) if title_element is not None else None\n",
        "      score = float(x.select_one('.tournaments-live-view-total-score').get_text(strip=True))\n",
        "      tie_break = float(x.select_one('.tournaments-live-view-tie-break').get_text(strip=True))\n",
        "      wdb = x.find('div', class_='tournaments-live-view-total-score')['v-tooltip'].split(',')\n",
        "      wins = int(wdb[0].strip().split()[0])\n",
        "      draws = int(wdb[1].strip().split()[0])\n",
        "      byes = int(wdb[2].strip().split()[0])\n",
        "      player = {\n",
        "      \"rank\": rank,\n",
        "      \"username\": username,\n",
        "      \"country\": country,\n",
        "      \"rating\": rating,\n",
        "      \"title\": title,\n",
        "      \"score\": score,\n",
        "      \"tie_break\": tie_break,\n",
        "      \"wins\": wins,\n",
        "      \"draws\": draws,\n",
        "      \"byes\": byes\n",
        "      }\n",
        "      ranks.append(player)\n",
        "\n",
        "  with open(output_filename, 'w') as json_file:\n",
        "    json.dump(ranks, json_file, indent=4)\n",
        "  print(\"written: \" + output_filename)\n"
      ],
      "metadata": {
        "colab": {
          "base_uri": "https://localhost:8080/"
        },
        "id": "53o98lhgBKoQ",
        "outputId": "4205613c-c961-4218-f741-d8db322c3804"
      },
      "execution_count": 20,
      "outputs": [
        {
          "output_type": "stream",
          "name": "stdout",
          "text": [
            "File already exists: /content/drive/MyDrive/TTChesscom/Ranks/-titled-tuesday-blitz-954936.json\n",
            "File already exists: /content/drive/MyDrive/TTChesscom/Ranks/-biggest-ever-titled-tuesday-952610.json\n",
            "File already exists: /content/drive/MyDrive/TTChesscom/Ranks/-titled-tuesday-blitz-948450.json\n",
            "File already exists: /content/drive/MyDrive/TTChesscom/Ranks/-titled-tuesday-blitz-919983.json\n",
            "File already exists: /content/drive/MyDrive/TTChesscom/Ranks/-masterclass-titled-tuesday-blitz-914248.json\n",
            "File already exists: /content/drive/MyDrive/TTChesscom/Ranks/-masterclass-titled-tuesday-blitz-913741.json\n",
            "File already exists: /content/drive/MyDrive/TTChesscom/Ranks/-masterclass-titled-tuesday-blitz-906896.json\n",
            "File already exists: /content/drive/MyDrive/TTChesscom/Ranks/-masterclass-titled-tuesday-blitz-899622.json\n",
            "File already exists: /content/drive/MyDrive/TTChesscom/Ranks/-masterclass-titled-tuesday-blitz-894012.json\n",
            "File already exists: /content/drive/MyDrive/TTChesscom/Ranks/-masterclass-titled-tuesday-blitz-878114.json\n",
            "File already exists: /content/drive/MyDrive/TTChesscom/Ranks/-masterclass-titled-tuesday-blitz-862996.json\n",
            "File already exists: /content/drive/MyDrive/TTChesscom/Ranks/-titled-tuesday-32-blitz-851498.json\n",
            "File already exists: /content/drive/MyDrive/TTChesscom/Ranks/-titled-tuesday-32-blitz-832833.json\n",
            "File already exists: /content/drive/MyDrive/TTChesscom/Ranks/-qualifier-4-titled-tuesday-32-blitz-821669.json\n",
            "File already exists: /content/drive/MyDrive/TTChesscom/Ranks/-qualifier-3-titled-tuesday-32-blitz-821668.json\n",
            "File already exists: /content/drive/MyDrive/TTChesscom/Ranks/-qualifier-2-titled-tuesday-32-blitz-821653.json\n",
            "File already exists: /content/drive/MyDrive/TTChesscom/Ranks/-qualifier-1-titled-tuesday-32-blitz-817562.json\n",
            "File already exists: /content/drive/MyDrive/TTChesscom/Ranks/-titled-tuesday-32-blitz-800243.json\n",
            "File already exists: /content/drive/MyDrive/TTChesscom/Ranks/titled-tuesday-32-blitz-789085.json\n",
            "File already exists: /content/drive/MyDrive/TTChesscom/Ranks/-titled-tuesday-32-blitz-late-767969.json\n",
            "File already exists: /content/drive/MyDrive/TTChesscom/Ranks/-titled-tuesday-32-blitz-early-767968.json\n",
            "File already exists: /content/drive/MyDrive/TTChesscom/Ranks/-titled-tuesday-32-blitz-early-753535.json\n",
            "File already exists: /content/drive/MyDrive/TTChesscom/Ranks/-titled-tuesday-32-blitz-late-753534.json\n",
            "File already exists: /content/drive/MyDrive/TTChesscom/Ranks/-titled-tuesday-32-blitz-late-735591.json\n",
            "File already exists: /content/drive/MyDrive/TTChesscom/Ranks/-titled-tuesday-32-blitz-early-735590.json\n",
            "total pages: 4\n",
            "page: 1\n",
            "page: 2\n",
            "page: 3\n",
            "page: 4\n",
            "written: /content/drive/MyDrive/TTChesscom/Ranks/-titled-tuesday-32-blitz-723840.json\n",
            "total pages: 7\n",
            "page: 1\n",
            "page: 2\n",
            "page: 3\n",
            "page: 4\n",
            "completed: 100\n",
            "page: 5\n",
            "page: 6\n",
            "page: 7\n",
            "written: /content/drive/MyDrive/TTChesscom/Ranks/-titled-tuesday-32-blitz-723839.json\n",
            "total pages: 4\n",
            "page: 1\n",
            "page: 2\n",
            "page: 3\n",
            "page: 4\n",
            "written: /content/drive/MyDrive/TTChesscom/Ranks/-titled-tuesday-32-blitz-710217.json\n",
            "total pages: 6\n",
            "page: 1\n",
            "page: 2\n",
            "page: 3\n",
            "page: 4\n",
            "completed: 100\n",
            "page: 5\n",
            "page: 6\n",
            "written: /content/drive/MyDrive/TTChesscom/Ranks/-titled-tuesday-32-blitz-710216.json\n",
            "total pages: 4\n",
            "page: 1\n",
            "page: 2\n",
            "page: 3\n",
            "page: 4\n",
            "written: /content/drive/MyDrive/TTChesscom/Ranks/-titled-tuesday-32-blitz-671914.json\n",
            "total pages: 7\n",
            "page: 1\n",
            "page: 2\n",
            "page: 3\n",
            "page: 4\n",
            "completed: 100\n",
            "page: 5\n",
            "page: 6\n",
            "page: 7\n",
            "written: /content/drive/MyDrive/TTChesscom/Ranks/-titled-tuesday-32-blitz-671913.json\n",
            "total pages: 4\n",
            "page: 1\n",
            "page: 2\n",
            "page: 3\n",
            "page: 4\n",
            "written: /content/drive/MyDrive/TTChesscom/Ranks/-titled-tuesday-32-blitz-671912.json\n",
            "total pages: 6\n",
            "page: 1\n",
            "page: 2\n",
            "page: 3\n",
            "page: 4\n",
            "completed: 100\n",
            "page: 5\n",
            "page: 6\n",
            "written: /content/drive/MyDrive/TTChesscom/Ranks/-titled-tuesday-32-blitz-671911.json\n",
            "total pages: 4\n",
            "page: 1\n",
            "page: 2\n",
            "page: 3\n",
            "page: 4\n",
            "written: /content/drive/MyDrive/TTChesscom/Ranks/-titled-tuesday-32-blitz-671910.json\n",
            "total pages: 7\n",
            "page: 1\n",
            "page: 2\n",
            "page: 3\n",
            "page: 4\n",
            "completed: 100\n",
            "page: 5\n",
            "page: 6\n",
            "page: 7\n",
            "written: /content/drive/MyDrive/TTChesscom/Ranks/-titled-tuesday-32-blitz-671909.json\n",
            "total pages: 5\n",
            "page: 1\n",
            "page: 2\n",
            "page: 3\n",
            "page: 4\n",
            "completed: 100\n",
            "page: 5\n",
            "written: /content/drive/MyDrive/TTChesscom/Ranks/-titled-tuesday-32-blitz-655591.json\n",
            "total pages: 7\n",
            "page: 1\n",
            "page: 2\n",
            "page: 3\n",
            "page: 4\n",
            "completed: 100\n",
            "page: 5\n",
            "page: 6\n",
            "page: 7\n",
            "written: /content/drive/MyDrive/TTChesscom/Ranks/-titled-tuesday-32-blitz-655590.json\n",
            "total pages: 6\n",
            "page: 1\n",
            "page: 2\n",
            "page: 3\n",
            "page: 4\n",
            "completed: 100\n",
            "page: 5\n",
            "page: 6\n",
            "written: /content/drive/MyDrive/TTChesscom/Ranks/-titled-tuesday-32-blitz-647976.json\n",
            "total pages: 5\n",
            "page: 1\n",
            "page: 2\n",
            "page: 3\n",
            "page: 4\n",
            "completed: 100\n",
            "page: 5\n",
            "written: /content/drive/MyDrive/TTChesscom/Ranks/-titled-tuesday-32-blitz-646318.json\n",
            "total pages: 4\n",
            "page: 1\n",
            "page: 2\n",
            "page: 3\n",
            "page: 4\n",
            "written: /content/drive/MyDrive/TTChesscom/Ranks/-titled-tuesday-32-blitz-634756.json\n",
            "total pages: 3\n",
            "page: 1\n",
            "page: 2\n",
            "page: 3\n",
            "written: /content/drive/MyDrive/TTChesscom/Ranks/-titled-tuesday-32-blitz-634247.json\n",
            "total pages: 4\n",
            "page: 1\n",
            "page: 2\n",
            "page: 3\n",
            "page: 4\n",
            "written: /content/drive/MyDrive/TTChesscom/Ranks/-titled-tuesday-32-blitz-634246.json\n"
          ]
        }
      ]
    }
  ]
}