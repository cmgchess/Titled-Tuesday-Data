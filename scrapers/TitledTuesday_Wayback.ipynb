{
  "nbformat": 4,
  "nbformat_minor": 0,
  "metadata": {
    "colab": {
      "provenance": []
    },
    "kernelspec": {
      "name": "python3",
      "display_name": "Python 3"
    },
    "language_info": {
      "name": "python"
    }
  },
  "cells": [
    {
      "cell_type": "code",
      "source": [
        "from google.colab import drive\n",
        "drive.mount('/content/drive')"
      ],
      "metadata": {
        "id": "F8HhBcV1XrBr",
        "colab": {
          "base_uri": "https://localhost:8080/"
        },
        "outputId": "9b9a2e0d-ded1-49b6-b79f-bb0095629980"
      },
      "execution_count": 1,
      "outputs": [
        {
          "output_type": "stream",
          "name": "stdout",
          "text": [
            "Mounted at /content/drive\n"
          ]
        }
      ]
    },
    {
      "cell_type": "code",
      "source": [
        "import requests\n",
        "from bs4 import BeautifulSoup\n",
        "import json\n",
        "import os\n"
      ],
      "metadata": {
        "id": "fYvgpFOaXsRU"
      },
      "execution_count": 2,
      "outputs": []
    },
    {
      "cell_type": "code",
      "source": [
        "def sort_key(url):\n",
        "    return int(url.split('-')[-1])"
      ],
      "metadata": {
        "id": "r7nASydml4fI"
      },
      "execution_count": 3,
      "outputs": []
    },
    {
      "cell_type": "code",
      "source": [
        "archive_links = [\n",
        "    # 'https://web.archive.org/web/20220624233221/https://www.chess.com/tournament/live/titled-tuesdays',\n",
        "    # 'https://web.archive.org/web/20220505000457/https://www.chess.com/tournament/live/titled-tuesdays',\n",
        "    # 'https://web.archive.org/web/20220301235720/https://www.chess.com/tournament/live/titled-tuesdays',\n",
        "    # 'https://web.archive.org/web/20211202145703/https://www.chess.com/tournament/live/titled-tuesdays',\n",
        "    # 'https://web.archive.org/web/20210701043307/https://www.chess.com/tournament/live/titled-tuesdays',\n",
        "    # 'https://web.archive.org/web/20210202191258/https://www.chess.com/tournament/live/titled-tuesdays',\n",
        "    # 'https://web.archive.org/web/20200804134755/https://www.chess.com/tournament/live/titled-tuesdays',\n",
        "    # 'https://web.archive.org/web/20191101005144/https://www.chess.com/tournament/live/titled-tuesdays',\n",
        "    'https://web.archive.org/web/20200929173228/https://www.chess.com/tournament/live/titled-tuesdays',\n",
        "\n",
        "]\n"
      ],
      "metadata": {
        "id": "8Vjs_zT4eZKo"
      },
      "execution_count": 18,
      "outputs": []
    },
    {
      "cell_type": "code",
      "source": [
        "tourn_links = []"
      ],
      "metadata": {
        "id": "PBAPPKTFAVQs"
      },
      "execution_count": 16,
      "outputs": []
    },
    {
      "cell_type": "code",
      "source": [
        "\n",
        "for i in archive_links:\n",
        "  r = requests.get(i)\n",
        "  soup = BeautifulSoup(r.content, 'html.parser')\n",
        "  tourn_list = soup.find('table', class_ = 'table-component table-hover table-clickable tournaments-table-component tournaments-live-table')\n",
        "  tourn_table_rows = tourn_list.find_all('tr')\n",
        "  tourn_table_rows = tourn_table_rows[1:]\n",
        "  for j in tourn_table_rows:\n",
        "    tourn_link = j.find('a', class_='tournaments-live-name')['href']\n",
        "    parts = tourn_link.split(\"https://www.chess.com/\")\n",
        "    chess_com_link = \"https://www.chess.com/\" + parts[1]\n",
        "    tourn_links.append(chess_com_link)"
      ],
      "metadata": {
        "id": "dscEbz3V-D5x"
      },
      "execution_count": 19,
      "outputs": []
    },
    {
      "cell_type": "code",
      "source": [
        "tourn_links = list(set(tourn_links))\n",
        "tourn_links = sorted(tourn_links, key=sort_key, reverse=True)\n",
        "tourn_links"
      ],
      "metadata": {
        "colab": {
          "base_uri": "https://localhost:8080/"
        },
        "id": "4keMUAJgkaSn",
        "outputId": "76830957-66f7-4a8a-e3f8-b67495b846a4"
      },
      "execution_count": 20,
      "outputs": [
        {
          "output_type": "execute_result",
          "data": {
            "text/plain": [
              "['https://www.chess.com/tournament/live/-scc-grand-prix-titled-tuesday-blitz-1569934',\n",
              " 'https://www.chess.com/tournament/live/-scc-grand-prix-titled-tuesday-blitz-1569933',\n",
              " 'https://www.chess.com/tournament/live/-scc-grand-prix-titled-tuesday-blitz-1540597',\n",
              " 'https://www.chess.com/tournament/live/-scc-grand-prix-titled-tuesday-blitz-1540596',\n",
              " 'https://www.chess.com/tournament/live/-scc-grand-prix-titled-tuesday-blitz-1526407',\n",
              " 'https://www.chess.com/tournament/live/-scc-grand-prix-titled-tuesday-blitz-1496673',\n",
              " 'https://www.chess.com/tournament/live/-scc-grand-prix-titled-tuesday-blitz-1496670',\n",
              " 'https://www.chess.com/tournament/live/-scc-grand-prix-titled-tuesday-blitz-1471954',\n",
              " 'https://www.chess.com/tournament/live/-scc-grand-prix-titled-tuesday-blitz-1366564',\n",
              " 'https://www.chess.com/tournament/live/-scc-grand-prix-titled-tuesday-blitz-1331040',\n",
              " 'https://www.chess.com/tournament/live/-scc-grand-prix-titled-tuesday-blitz-1314461',\n",
              " 'https://www.chess.com/tournament/live/-scc-grand-prix-titled-tuesday-blitz-1308796',\n",
              " 'https://www.chess.com/tournament/live/-scc-grand-prix-titled-tuesday-blitz-1293512',\n",
              " 'https://www.chess.com/tournament/live/-scc-grand-prix-titled-tuesday-blitz-1287259',\n",
              " 'https://www.chess.com/tournament/live/-scc-grand-prix-titled-tuesday-blitz-1259839',\n",
              " 'https://www.chess.com/tournament/live/-scc-grand-prix-titled-tuesday-blitz-1253603',\n",
              " 'https://www.chess.com/tournament/live/-scc-grand-prix-titled-tuesday-blitz-1246996',\n",
              " 'https://www.chess.com/tournament/live/-titled-tuesday-blitz-1240807',\n",
              " 'https://www.chess.com/tournament/live/-titled-tuesday-blitz-1233743',\n",
              " 'https://www.chess.com/tournament/live/-titled-tuesday-blitz-1225223',\n",
              " 'https://www.chess.com/tournament/live/-titled-tuesday-blitz-1213181',\n",
              " 'https://www.chess.com/tournament/live/-titled-tuesday-blitz-1208093',\n",
              " 'https://www.chess.com/tournament/live/-titled-tuesday-blitz-1199696',\n",
              " 'https://www.chess.com/tournament/live/-titled-tuesday-blitz-1189334',\n",
              " 'https://www.chess.com/tournament/live/-titled-tuesday-blitz-1182433']"
            ]
          },
          "metadata": {},
          "execution_count": 20
        }
      ]
    },
    {
      "cell_type": "code",
      "source": [
        "for url in tourn_links:\n",
        "  parts = url.split('/')\n",
        "  tournament_id = parts[-1]\n",
        "  output_filename = f\"/content/drive/MyDrive/TTChesscom/Ranks/{tournament_id}.json\"\n",
        "  if os.path.exists(output_filename):\n",
        "    print(\"File already exists: \" + output_filename)\n",
        "    continue\n",
        "  r = requests.get(url+'?&players=100')\n",
        "  soup = BeautifulSoup(r.content, 'html.parser')\n",
        "  i_p = soup.find('div', class_ = 'index-pagination')\n",
        "  data_total_pages = 0\n",
        "  if i_p:\n",
        "    data_total_pages = int(i_p.find('div')['data-total-pages'])\n",
        "  print(\"total pages: \" + str(data_total_pages))\n",
        "\n",
        "  ranks  = []\n",
        "  rank = 0\n",
        "  for i in range(data_total_pages):\n",
        "    print('page: ' + str(i+1))\n",
        "    r = requests.get(url+'?&players='+str(i+1))\n",
        "    soup = BeautifulSoup(r.content, 'html.parser')\n",
        "    table = soup.find('table', class_ = 'table-component tournaments-live-view-results-table tournaments-live-view-extra-borders')\n",
        "    table_rows = table.find_all('tr')\n",
        "    table_rows = table_rows[1:]\n",
        "    for x in table_rows:\n",
        "      rank +=1\n",
        "      if rank%100 == 0:\n",
        "        print(\"completed: \"+str(rank))\n",
        "      username = x.select_one('.user-tagline-username').get_text(strip=True)\n",
        "      country = x.select_one('.country-flags-component')['v-tooltip']\n",
        "      rating = x.select_one('.user-rating').get_text(strip=True).replace('(','').replace(')','')\n",
        "      if (rating != 'Unrated'):\n",
        "        rating = int(rating)\n",
        "      title_element = x.select_one('.post-view-meta-title')\n",
        "      title = title_element.get_text(strip=True) if title_element is not None else None\n",
        "      score = float(x.select_one('.tournaments-live-view-total-score').get_text(strip=True))\n",
        "      tie_break = float(x.select_one('.tournaments-live-view-tie-break').get_text(strip=True))\n",
        "      wdb = x.find('div', class_='tournaments-live-view-total-score')['v-tooltip'].split(',')\n",
        "      wins = int(wdb[0].strip().split()[0])\n",
        "      draws = int(wdb[1].strip().split()[0])\n",
        "      byes = int(wdb[2].strip().split()[0])\n",
        "      player = {\n",
        "      \"rank\": rank,\n",
        "      \"username\": username,\n",
        "      \"country\": country,\n",
        "      \"rating\": rating,\n",
        "      \"title\": title,\n",
        "      \"score\": score,\n",
        "      \"tie_break\": tie_break,\n",
        "      \"wins\": wins,\n",
        "      \"draws\": draws,\n",
        "      \"byes\": byes\n",
        "      }\n",
        "      ranks.append(player)\n",
        "\n",
        "  with open(output_filename, 'w') as json_file:\n",
        "    json.dump(ranks, json_file, indent=4)\n",
        "  print(\"written: \" + output_filename)\n"
      ],
      "metadata": {
        "colab": {
          "base_uri": "https://localhost:8080/"
        },
        "id": "53o98lhgBKoQ",
        "outputId": "9a506462-3e9c-45a0-86c1-e90fe4499059"
      },
      "execution_count": 14,
      "outputs": [
        {
          "output_type": "stream",
          "name": "stdout",
          "text": [
            "File already exists: /content/drive/MyDrive/TTChesscom/Ranks/-scc-grand-prix-titled-tuesday-blitz-1569934.json\n",
            "File already exists: /content/drive/MyDrive/TTChesscom/Ranks/-scc-grand-prix-titled-tuesday-blitz-1569933.json\n",
            "File already exists: /content/drive/MyDrive/TTChesscom/Ranks/-scc-grand-prix-titled-tuesday-blitz-1540597.json\n",
            "File already exists: /content/drive/MyDrive/TTChesscom/Ranks/-scc-grand-prix-titled-tuesday-blitz-1540596.json\n",
            "File already exists: /content/drive/MyDrive/TTChesscom/Ranks/-scc-grand-prix-titled-tuesday-blitz-1526407.json\n",
            "File already exists: /content/drive/MyDrive/TTChesscom/Ranks/-scc-grand-prix-titled-tuesday-blitz-1496673.json\n",
            "File already exists: /content/drive/MyDrive/TTChesscom/Ranks/-scc-grand-prix-titled-tuesday-blitz-1496670.json\n",
            "File already exists: /content/drive/MyDrive/TTChesscom/Ranks/-scc-grand-prix-titled-tuesday-blitz-1471954.json\n",
            "File already exists: /content/drive/MyDrive/TTChesscom/Ranks/-scc-grand-prix-titled-tuesday-blitz-1366564.json\n",
            "File already exists: /content/drive/MyDrive/TTChesscom/Ranks/-scc-grand-prix-titled-tuesday-blitz-1331040.json\n",
            "File already exists: /content/drive/MyDrive/TTChesscom/Ranks/-scc-grand-prix-titled-tuesday-blitz-1314461.json\n",
            "File already exists: /content/drive/MyDrive/TTChesscom/Ranks/-scc-grand-prix-titled-tuesday-blitz-1308796.json\n",
            "File already exists: /content/drive/MyDrive/TTChesscom/Ranks/-scc-grand-prix-titled-tuesday-blitz-1293512.json\n",
            "File already exists: /content/drive/MyDrive/TTChesscom/Ranks/-scc-grand-prix-titled-tuesday-blitz-1287259.json\n",
            "File already exists: /content/drive/MyDrive/TTChesscom/Ranks/-scc-grand-prix-titled-tuesday-blitz-1259839.json\n",
            "File already exists: /content/drive/MyDrive/TTChesscom/Ranks/-scc-grand-prix-titled-tuesday-blitz-1253603.json\n",
            "File already exists: /content/drive/MyDrive/TTChesscom/Ranks/-scc-grand-prix-titled-tuesday-blitz-1246996.json\n",
            "File already exists: /content/drive/MyDrive/TTChesscom/Ranks/-titled-tuesday-blitz-1240807.json\n",
            "File already exists: /content/drive/MyDrive/TTChesscom/Ranks/-titled-tuesday-blitz-1233743.json\n",
            "File already exists: /content/drive/MyDrive/TTChesscom/Ranks/-titled-tuesday-blitz-1225223.json\n",
            "File already exists: /content/drive/MyDrive/TTChesscom/Ranks/-titled-tuesday-blitz-1213181.json\n",
            "File already exists: /content/drive/MyDrive/TTChesscom/Ranks/-titled-tuesday-blitz-1208093.json\n",
            "File already exists: /content/drive/MyDrive/TTChesscom/Ranks/-titled-tuesday-blitz-1199696.json\n",
            "File already exists: /content/drive/MyDrive/TTChesscom/Ranks/-titled-tuesday-blitz-1189334.json\n",
            "File already exists: /content/drive/MyDrive/TTChesscom/Ranks/-titled-tuesday-blitz-1182433.json\n",
            "File already exists: /content/drive/MyDrive/TTChesscom/Ranks/-titled-tuesday-blitz-1152628.json\n",
            "File already exists: /content/drive/MyDrive/TTChesscom/Ranks/-titled-tuesday-blitz-1152623.json\n",
            "File already exists: /content/drive/MyDrive/TTChesscom/Ranks/-titled-tuesday-blitz-1144554.json\n",
            "File already exists: /content/drive/MyDrive/TTChesscom/Ranks/-titled-tuesday-blitz-1144553.json\n",
            "File already exists: /content/drive/MyDrive/TTChesscom/Ranks/-titled-tuesday-blitz-am-1136500.json\n",
            "File already exists: /content/drive/MyDrive/TTChesscom/Ranks/-titled-tuesday-blitz-1136499.json\n",
            "File already exists: /content/drive/MyDrive/TTChesscom/Ranks/-titled-tuesday-blitz-1125173.json\n",
            "File already exists: /content/drive/MyDrive/TTChesscom/Ranks/-titled-tuesday-blitz-1117830.json\n",
            "File already exists: /content/drive/MyDrive/TTChesscom/Ranks/-titled-tuesday-blitz-1105893.json\n",
            "File already exists: /content/drive/MyDrive/TTChesscom/Ranks/-titled-tuesday-blitz-1097711.json\n",
            "File already exists: /content/drive/MyDrive/TTChesscom/Ranks/-titled-tuesday-blitz-1089335.json\n",
            "File already exists: /content/drive/MyDrive/TTChesscom/Ranks/-titled-tuesday-blitz-1078636.json\n",
            "File already exists: /content/drive/MyDrive/TTChesscom/Ranks/-titled-tuesday-blitz-1070427.json\n",
            "File already exists: /content/drive/MyDrive/TTChesscom/Ranks/-titled-tuesday-blitz-1061838.json\n",
            "File already exists: /content/drive/MyDrive/TTChesscom/Ranks/-titled-tuesday-blitz-1051389.json\n",
            "File already exists: /content/drive/MyDrive/TTChesscom/Ranks/-titled-tuesday-blitz-1042665.json\n",
            "File already exists: /content/drive/MyDrive/TTChesscom/Ranks/-titled-tuesday-blitz-1034328.json\n",
            "File already exists: /content/drive/MyDrive/TTChesscom/Ranks/-titled-tuesday-blitz-1024163.json\n",
            "File already exists: /content/drive/MyDrive/TTChesscom/Ranks/-titled-tuesday-blitz-1016282.json\n",
            "File already exists: /content/drive/MyDrive/TTChesscom/Ranks/-titled-tuesday-blitz-1008229.json\n",
            "File already exists: /content/drive/MyDrive/TTChesscom/Ranks/-titled-tuesday-blitz-998520.json\n",
            "File already exists: /content/drive/MyDrive/TTChesscom/Ranks/-titled-tuesday-blitz-992544.json\n",
            "File already exists: /content/drive/MyDrive/TTChesscom/Ranks/-titled-tuesday-blitz-982969.json\n",
            "File already exists: /content/drive/MyDrive/TTChesscom/Ranks/-titled-tuesday-blitz-973486.json\n",
            "File already exists: /content/drive/MyDrive/TTChesscom/Ranks/-titled-tuesday-blitz-965556.json\n",
            "File already exists: /content/drive/MyDrive/TTChesscom/Ranks/-titled-tuesday-blitz-954936.json\n",
            "File already exists: /content/drive/MyDrive/TTChesscom/Ranks/-biggest-ever-titled-tuesday-952610.json\n",
            "File already exists: /content/drive/MyDrive/TTChesscom/Ranks/-titled-tuesday-blitz-948450.json\n",
            "File already exists: /content/drive/MyDrive/TTChesscom/Ranks/-titled-tuesday-blitz-919983.json\n",
            "File already exists: /content/drive/MyDrive/TTChesscom/Ranks/-masterclass-titled-tuesday-blitz-914248.json\n",
            "File already exists: /content/drive/MyDrive/TTChesscom/Ranks/-masterclass-titled-tuesday-blitz-913741.json\n",
            "File already exists: /content/drive/MyDrive/TTChesscom/Ranks/-masterclass-titled-tuesday-blitz-906896.json\n",
            "File already exists: /content/drive/MyDrive/TTChesscom/Ranks/-masterclass-titled-tuesday-blitz-899622.json\n"
          ]
        }
      ]
    }
  ]
}