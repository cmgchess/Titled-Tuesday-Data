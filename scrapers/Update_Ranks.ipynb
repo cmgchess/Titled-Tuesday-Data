{
  "cells": [
    {
      "cell_type": "code",
      "execution_count": 1,
      "metadata": {
        "id": "fYvgpFOaXsRU"
      },
      "outputs": [],
      "source": [
        "import requests\n",
        "from bs4 import BeautifulSoup\n",
        "from datetime import datetime\n",
        "from itertools import groupby\n",
        "from collections import OrderedDict\n",
        "import json\n",
        "import os\n"
      ]
    },
    {
      "cell_type": "code",
      "execution_count": 2,
      "metadata": {
        "id": "oGCmK3M2QAN1"
      },
      "outputs": [],
      "source": [
        "gh_link = 'https://github.com/cmgchess/Titled-Tuesday-Data/tree/main/ranks'"
      ]
    },
    {
      "cell_type": "code",
      "source": [
        "r = requests.get(gh_link)\n",
        "soup = BeautifulSoup(r.content, 'html.parser')"
      ],
      "metadata": {
        "id": "l2r_5k-woVUx"
      },
      "execution_count": 3,
      "outputs": []
    },
    {
      "cell_type": "code",
      "source": [
        "v = str(soup)\n",
        "import json\n",
        "data_dict = json.loads(v)\n",
        "items = data_dict['payload']['tree']['items']"
      ],
      "metadata": {
        "id": "kthowW8toWLe"
      },
      "execution_count": 4,
      "outputs": []
    },
    {
      "cell_type": "code",
      "execution_count": 5,
      "metadata": {
        "id": "KKaD_gCAQN4b"
      },
      "outputs": [],
      "source": [
        "file_names = []\n",
        "for x in items:\n",
        "  text = x['name']\n",
        "  text = text.replace('.json', '')\n",
        "  if text != \"scrapers\" and text != \"README.md\" and text != \"LICENSE\" and text != \"details\":\n",
        "    file_names.append(text)"
      ]
    },
    {
      "cell_type": "code",
      "execution_count": 6,
      "metadata": {
        "id": "w6womySkTMlE"
      },
      "outputs": [],
      "source": [
        "base_url = 'https://www.chess.com/tournament/live/'"
      ]
    },
    {
      "cell_type": "code",
      "source": [
        "tt = 'https://www.chess.com/tournament/live/titled-tuesdays'\n",
        "tourn_links = []\n",
        "for i in range(1):\n",
        "  r = requests.get(tt+'?&page='+str(i+1))\n",
        "  soup = BeautifulSoup(r.content, 'html.parser')\n",
        "  tourn_list = soup.find('table', class_ = 'table-component table-hover table-clickable tournaments-live-table')\n",
        "  tourn_table_rows = tourn_list.find_all('tr')\n",
        "  tourn_table_rows = tourn_table_rows[1:]\n",
        "  for j in tourn_table_rows:\n",
        "    tourn_link = j.find('a', class_='tournaments-live-name')['href']\n",
        "    tourn_links.append(tourn_link)"
      ],
      "metadata": {
        "id": "ME9AGN6G1RP7"
      },
      "execution_count": 7,
      "outputs": []
    },
    {
      "cell_type": "code",
      "source": [
        "for url in tourn_links:\n",
        "  parts = url.split('/')\n",
        "  tournament_id = parts[-1]\n",
        "  write_to = f\"{tournament_id}.json\"\n",
        "  if tournament_id in file_names:\n",
        "    print(\"File already exists: \" + tournament_id)\n",
        "    continue\n",
        "  r = requests.get(url+'?&players=100')\n",
        "  soup = BeautifulSoup(r.content, 'html.parser')\n",
        "  i_p = soup.find('div', class_ = 'index-pagination')\n",
        "  data_total_pages = 0\n",
        "  if i_p:\n",
        "    data_total_pages = int(i_p.find('div')['data-total-pages'])\n",
        "  print(\"total pages: \" + str(data_total_pages))\n",
        "\n",
        "  ranks  = []\n",
        "  rank = 0\n",
        "  for i in range(data_total_pages):\n",
        "    print('page: ' + str(i+1))\n",
        "    r = requests.get(url+'?&players='+str(i+1))\n",
        "    soup = BeautifulSoup(r.content, 'html.parser')\n",
        "    table = soup.find('table', class_ = 'table-component tournaments-live-view-results-table tournaments-live-view-extra-borders')\n",
        "    table_rows = table.find_all('tr')\n",
        "    table_rows = table_rows[1:]\n",
        "    for x in table_rows:\n",
        "      rank +=1\n",
        "      if rank%100 == 0:\n",
        "        print(\"completed: \"+str(rank))\n",
        "      username = x.select_one('.user-tagline-username').get_text(strip=True)\n",
        "      country = x.select_one('.country-flags-component')['v-tooltip']\n",
        "      rating = x.select_one('.user-rating').get_text(strip=True).replace('(','').replace(')','')\n",
        "      if (rating != 'Unrated'):\n",
        "        rating = int(rating)\n",
        "      title_element = x.select_one('.post-view-meta-title')\n",
        "      title = title_element.get_text(strip=True) if title_element is not None else None\n",
        "      score = float(x.select_one('.tournaments-live-view-total-score').get_text(strip=True))\n",
        "      tie_break = float(x.select_one('.tournaments-live-view-tie-break').get_text(strip=True))\n",
        "      wdb = x.find('div', class_='tournaments-live-view-total-score')['v-tooltip'].split(',')\n",
        "      wins = int(wdb[0].strip().split()[0])\n",
        "      draws = int(wdb[1].strip().split()[0])\n",
        "      byes = int(wdb[2].strip().split()[0])\n",
        "      player = {\n",
        "      \"rank\": rank,\n",
        "      \"username\": username,\n",
        "      \"country\": country,\n",
        "      \"rating\": rating,\n",
        "      \"title\": title,\n",
        "      \"score\": score,\n",
        "      \"tie_break\": tie_break,\n",
        "      \"wins\": wins,\n",
        "      \"draws\": draws,\n",
        "      \"byes\": byes\n",
        "      }\n",
        "      ranks.append(player)\n",
        "\n",
        "  with open(write_to, 'w') as json_file:\n",
        "    json.dump(ranks, json_file, indent=4)\n",
        "    file_names.append(tournament_id)\n",
        "  print(\"written: \" + write_to)"
      ],
      "metadata": {
        "id": "nhx_YdJ41YrU"
      },
      "execution_count": null,
      "outputs": []
    },
    {
      "cell_type": "code",
      "source": [
        "current_year = datetime.now().year\n",
        "last_year = current_year - 1\n",
        "last_and_current = [filename for filename in file_names if str(current_year) in filename or str(last_year) in filename]"
      ],
      "metadata": {
        "id": "ZQ3ir4pW3ohA"
      },
      "execution_count": 9,
      "outputs": []
    },
    {
      "cell_type": "code",
      "source": [],
      "metadata": {
        "id": "ZWmpNkfV5jM4"
      },
      "execution_count": 9,
      "outputs": []
    },
    {
      "cell_type": "code",
      "execution_count": null,
      "metadata": {
        "id": "ERIW3OfSWoX1"
      },
      "outputs": [],
      "source": [
        "events = []\n",
        "for i in last_and_current:\n",
        "  r = requests.get(base_url+i)\n",
        "  soup = BeautifulSoup(r.content, 'html.parser')\n",
        "  name_el = soup.find('span', class_='v5-title-has-icon tournaments')\n",
        "  name = name_el.get_text().strip()\n",
        "  print(\"processing: \" + name)\n",
        "  stats_el = soup.find('div', class_='tournaments-live-view-content-stats')\n",
        "  span_elements = stats_el.find_all('span')\n",
        "  number_of_players = int(span_elements[1].get_text(strip=True).split()[0])\n",
        "  date_and_time = span_elements[2].get_text(strip=True)\n",
        "  parsed_date = datetime.strptime(date_and_time, \"%b %d, %Y, %I:%M %p\")\n",
        "  formatted_date = parsed_date.strftime(\"%d.%m.%Y\")\n",
        "  formatted_time = parsed_date.strftime(\"%I:%M %p\").replace('\\u202f', ' ')\n",
        "\n",
        "  #winners\n",
        "  winner_section = soup.find('div', class_='v5-section-content-wide tournaments-live-view-players')\n",
        "  winners_items = winner_section.find_all('div', class_='tournaments-winners-item')\n",
        "  winners_data = winner_section.find_all('div',class_='post-view-meta-component tournaments-winners-details')\n",
        "  first_place_winners = []\n",
        "  for idx,item in enumerate(winners_items):\n",
        "    place = item.find('div', class_='tournaments-winners-box').get_text(strip=True)\n",
        "    if place == '1st Place':\n",
        "        winner = winners_data[idx].find('a', class_='user-username-component').get_text(strip=True)\n",
        "        first_place_winners.append(winner)\n",
        "  #assume something wrong with the event\n",
        "  if len(first_place_winners) > 10:\n",
        "    first_place_winners = []\n",
        "\n",
        "  event = {\n",
        "    \"title\": name,\n",
        "    \"num_players\": number_of_players,\n",
        "    \"date\": formatted_date,\n",
        "    \"time\": formatted_time,\n",
        "    \"tourney_link\": base_url+i,\n",
        "    \"data\": f\"https://github.com/cmgchess/Titled-Tuesday-Data/blob/main/ranks/{i}.json\",\n",
        "    \"winner\": first_place_winners\n",
        "  }\n",
        "  events.append(event)"
      ]
    },
    {
      "cell_type": "code",
      "execution_count": 11,
      "metadata": {
        "id": "GSM_V_5nccxN"
      },
      "outputs": [],
      "source": [
        "events.sort(key=lambda x: (datetime.strptime(x[\"date\"], \"%d.%m.%Y\"), x[\"time\"]), reverse=True)\n"
      ]
    },
    {
      "cell_type": "code",
      "execution_count": 12,
      "metadata": {
        "id": "ZiLtie4IdIi-"
      },
      "outputs": [],
      "source": [
        "grouped_data = {}\n",
        "for year, items in groupby(events, key=lambda x: datetime.strptime(x[\"date\"], \"%d.%m.%Y\").year):\n",
        "    grouped_data[year] = list(items)\n"
      ]
    },
    {
      "cell_type": "code",
      "source": [
        "from tabulate import tabulate\n",
        "custom_headers = {\n",
        "    \"title\": \"Title\",\n",
        "    \"num_players\": \"Number of Players\",\n",
        "    \"date\": \"Date\",\n",
        "    \"time\": \"Time\",\n",
        "    \"winner\": \"Winner\",\n",
        "    \"tourney_link\": \"Tournament Link\",\n",
        "    \"data\": \"Rank List\"\n",
        "}\n",
        "headers = ['Title', 'Number of Players', 'Date', 'Time', 'Winner', 'Tournament Link', 'Rank List']"
      ],
      "metadata": {
        "id": "KYcZ92nK8v25"
      },
      "execution_count": 13,
      "outputs": []
    },
    {
      "cell_type": "code",
      "source": [
        "entries = grouped_data[current_year]\n",
        "file_name = f\"{current_year}.md\"\n",
        "entries_with_custom_names = [{custom_headers.get(col, col): value for col, value in entry.items()} for entry in entries]\n",
        "for entry in entries_with_custom_names:\n",
        "  if 'Title' in entry:\n",
        "    entry['Title'] = entry['Title'].replace(\"|\", \"\\|\")\n",
        "  if 'Tournament Link' in entry:\n",
        "    entry['Tournament Link'] = f\"[Link]({entry['Tournament Link']})\"\n",
        "  if 'Winner' in entry:\n",
        "    if len(entry['Winner']) == 0:\n",
        "      entry['Winner'] = 'Cancelled'\n",
        "    else:\n",
        "      entry['Winner'] = \", \".join(entry['Winner'])\n",
        "  if 'Rank List' in entry:\n",
        "    entry['Rank List'] = f\"[Link]({entry['Rank List']})\"\n",
        "entries_with_custom_names = [OrderedDict((key, item[key]) for key in headers) for item in entries_with_custom_names]\n",
        "table = tabulate(entries_with_custom_names,headers=\"keys\", tablefmt=\"github\")\n",
        "with open(file_name, \"w\") as file:\n",
        "    file.write(table)\n"
      ],
      "metadata": {
        "id": "6zjmhINv9CuB"
      },
      "execution_count": 14,
      "outputs": []
    }
  ],
  "metadata": {
    "colab": {
      "provenance": []
    },
    "kernelspec": {
      "display_name": "Python 3",
      "name": "python3"
    },
    "language_info": {
      "name": "python"
    }
  },
  "nbformat": 4,
  "nbformat_minor": 0
}