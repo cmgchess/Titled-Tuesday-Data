{
  "cells": [
    {
      "cell_type": "code",
      "execution_count": 38,
      "metadata": {
        "colab": {
          "base_uri": "https://localhost:8080/"
        },
        "id": "F8HhBcV1XrBr",
        "outputId": "bcb07ad9-ebbb-4257-8c9f-ac8358c9bbc1"
      },
      "outputs": [
        {
          "name": "stdout",
          "output_type": "stream",
          "text": [
            "Drive already mounted at /content/drive; to attempt to forcibly remount, call drive.mount(\"/content/drive\", force_remount=True).\n"
          ]
        }
      ],
      "source": [
        "from google.colab import drive\n",
        "drive.mount('/content/drive')"
      ]
    },
    {
      "cell_type": "code",
      "execution_count": 2,
      "metadata": {
        "id": "fYvgpFOaXsRU"
      },
      "outputs": [],
      "source": [
        "import requests\n",
        "from bs4 import BeautifulSoup\n",
        "from datetime import datetime\n",
        "from itertools import groupby\n",
        "import json\n",
        "import os\n"
      ]
    },
    {
      "cell_type": "code",
      "execution_count": 3,
      "metadata": {
        "id": "oGCmK3M2QAN1"
      },
      "outputs": [],
      "source": [
        "gh_link = 'https://github.com/cmgchess/Titled-Tuesday-Data'"
      ]
    },
    {
      "cell_type": "code",
      "execution_count": 4,
      "metadata": {
        "id": "k_-z7qZTQIlc"
      },
      "outputs": [],
      "source": [
        "r = requests.get(gh_link)\n",
        "soup = BeautifulSoup(r.content, 'html.parser')\n",
        "content  = i_p = soup.find('div', class_ = 'js-details-container Details')\n",
        "rows = content.find_all('div', {'class': 'Box-row Box-row--focus-gray py-2 d-flex position-relative js-navigation-item'})"
      ]
    },
    {
      "cell_type": "code",
      "execution_count": 5,
      "metadata": {
        "colab": {
          "base_uri": "https://localhost:8080/"
        },
        "id": "KKaD_gCAQN4b",
        "outputId": "e4953aff-68d6-4a5c-d283-077a9e5cda1e"
      },
      "outputs": [
        {
          "data": {
            "text/plain": [
              "362"
            ]
          },
          "execution_count": 5,
          "metadata": {},
          "output_type": "execute_result"
        }
      ],
      "source": [
        "file_names = []\n",
        "for x in rows:\n",
        "  a_tag = x.find('a', class_='js-navigation-open')\n",
        "  text = a_tag.get_text()\n",
        "  text = text.replace('.json', '')\n",
        "  if text != \"scrapers\" and text != \"README.md\":\n",
        "    file_names.append(text)\n",
        "\n",
        "len(file_names)"
      ]
    },
    {
      "cell_type": "code",
      "execution_count": 6,
      "metadata": {
        "id": "w6womySkTMlE"
      },
      "outputs": [],
      "source": [
        "base_url = 'https://www.chess.com/tournament/live/'"
      ]
    },
    {
      "cell_type": "code",
      "execution_count": null,
      "metadata": {
        "colab": {
          "base_uri": "https://localhost:8080/"
        },
        "id": "ERIW3OfSWoX1",
        "outputId": "d78ec244-ad8a-4b84-df97-a656da6f06bd"
      },
      "outputs": [
        {
          "name": "stdout",
          "output_type": "stream",
          "text": [
            "processing: *** Biggest EVER Titled Tuesday\n",
            "processing: *** MasterClass Titled Tuesday Blitz\n",
            "processing: *** MasterClass Titled Tuesday Blitz\n",
            "processing: *** MasterClass Titled Tuesday Blitz\n",
            "processing: *** MasterClass Titled Tuesday Blitz\n",
            "processing: *** MasterClass Titled Tuesday Blitz\n",
            "processing: *** MasterClass Titled Tuesday Blitz\n",
            "processing: *** MasterClass Titled Tuesday Blitz\n",
            "processing: *** Monthly 3|2 Blitz Masters\n",
            "processing: *** Monthly 3|2 Blitz Masters\n",
            "processing: *** Qualifier 1: Titled Tuesday 3|2 Blitz\n",
            "processing: *** Qualifier 2: Titled Tuesday 3|2 Blitz\n",
            "processing: *** Qualifier 3: Titled Tuesday 3|2 Blitz\n",
            "processing: *** Qualifier 4: Titled Tuesday 3|2 Blitz\n",
            "processing: *** SCC Grand Prix: Titled Tuesday Blitz\n",
            "processing: *** SCC Grand Prix: Titled Tuesday Blitz\n",
            "processing: *** SCC Grand Prix: Titled Tuesday Blitz\n",
            "processing: *** SCC Grand Prix: Titled Tuesday Blitz\n",
            "processing: *** SCC Grand Prix: Titled Tuesday Blitz\n",
            "processing: *** SCC Grand Prix: Titled Tuesday Blitz\n",
            "processing: *** SCC Grand Prix: Titled Tuesday Blitz\n",
            "processing: *** SCC Grand Prix: Titled Tuesday Blitz\n",
            "processing: *** SCC Grand Prix: Titled Tuesday Blitz\n",
            "processing: *** SCC Grand Prix: Titled Tuesday Blitz\n",
            "processing: *** SCC Grand Prix: Titled Tuesday Blitz\n",
            "processing: *** SCC Grand Prix: Titled Tuesday Blitz\n",
            "processing: *** SCC Grand Prix: Titled Tuesday Blitz\n",
            "processing: *** SCC Grand Prix: Titled Tuesday Blitz\n",
            "processing: *** SCC Grand Prix: Titled Tuesday Blitz\n",
            "processing: *** SCC Grand Prix: Titled Tuesday Blitz\n",
            "processing: *** SCC Grand Prix: Titled Tuesday Blitz\n",
            "processing: *** SCC Grand Prix: Titled Tuesday Blitz\n",
            "processing: *** SCC Grand Prix: Titled Tuesday Blitz\n",
            "processing: *** SCC Grand Prix: Titled Tuesday Blitz\n",
            "processing: *** Titled Tuesday 3|2 Blitz\n",
            "processing: *** Titled Tuesday 3|2 Blitz\n",
            "processing: *** Titled Tuesday 3|2 Blitz\n",
            "processing: *** Titled Tuesday 3|2 Blitz\n",
            "processing: *** Titled Tuesday 3|2 Blitz\n",
            "processing: *** Titled Tuesday 3|2 Blitz\n",
            "processing: *** Titled Tuesday 3|2 Blitz\n",
            "processing: *** Titled Tuesday 3|2 Blitz\n",
            "processing: *** Titled Tuesday 3|2 Blitz\n",
            "processing: *** Titled Tuesday 3|2 Blitz\n",
            "processing: *** Titled Tuesday 3|2 Blitz\n",
            "processing: *** Titled Tuesday 3|2 Blitz\n",
            "processing: *** Titled Tuesday 3|2 Blitz\n",
            "processing: *** Titled Tuesday 3|2 Blitz\n",
            "processing: *** Titled Tuesday 3|2 Blitz\n",
            "processing: *** Titled Tuesday 3|2 Blitz\n",
            "processing: *** Titled Tuesday 3|2 Blitz\n",
            "processing: *** Titled Tuesday 3|2 Blitz\n",
            "processing: *** Titled Tuesday 3|2 Blitz\n",
            "processing: *** Titled Tuesday 3|2 Blitz\n",
            "processing: *** Titled Tuesday 3|2 Blitz\n",
            "processing: *** Titled Tuesday 3|2 Blitz\n",
            "processing: *** Titled Tuesday 3|2 Blitz\n",
            "processing: *** Titled Tuesday 3|2 Blitz\n",
            "processing: *** Titled Tuesday 3|2 Blitz\n",
            "processing: *** Titled Tuesday 3|2 Blitz\n",
            "processing: *** Titled Tuesday 3|2 Blitz\n",
            "processing: *** Titled Tuesday 3|2 Blitz\n",
            "processing: *** Titled Tuesday 3|2 Blitz\n",
            "processing: *** Titled Tuesday 3|2 Blitz\n",
            "processing: *** Titled Tuesday 3|2 Blitz\n",
            "processing: *** Titled Tuesday 3|2 Blitz\n",
            "processing: *** Titled Tuesday 3|2 Blitz\n",
            "processing: *** Titled Tuesday 3|2 Blitz\n",
            "processing: *** Titled Tuesday 3|2 Blitz\n",
            "processing: *** Titled Tuesday 3|2 Blitz\n",
            "processing: *** Titled Tuesday 3|2 Blitz\n",
            "processing: *** Titled Tuesday 3|2 Blitz\n",
            "processing: *** Titled Tuesday 3|2 Blitz\n",
            "processing: *** Titled Tuesday 3|2 Blitz\n",
            "processing: *** Titled Tuesday 3|2 Blitz (Early)\n",
            "processing: *** Titled Tuesday 3|2 Blitz (Early)\n",
            "processing: *** Titled Tuesday 3|2 Blitz (Early)\n",
            "processing: *** Titled Tuesday 3|2 Blitz (Late)\n",
            "processing: *** Titled Tuesday 3|2 Blitz (Late)\n",
            "processing: *** Titled Tuesday 3|2 Blitz (Late)\n",
            "processing: *** Titled Tuesday Blitz\n",
            "processing: *** Titled Tuesday Blitz\n",
            "processing: *** Titled Tuesday Blitz\n",
            "processing: *** Titled Tuesday Blitz\n",
            "processing: *** Titled Tuesday Blitz\n",
            "processing: *** Titled Tuesday Blitz\n",
            "processing: *** Titled Tuesday Blitz\n",
            "processing: *** Titled Tuesday Blitz\n",
            "processing: *** Titled Tuesday Blitz\n",
            "processing: *** Titled Tuesday Blitz\n",
            "processing: *** Titled Tuesday Blitz\n",
            "processing: *** Titled Tuesday Blitz\n",
            "processing: *** Titled Tuesday Blitz\n",
            "processing: *** Titled Tuesday Blitz\n",
            "processing: *** Titled Tuesday Blitz\n",
            "processing: *** Titled Tuesday Blitz\n",
            "processing: *** Titled Tuesday Blitz\n",
            "processing: *** Titled Tuesday Blitz\n",
            "processing: *** Titled Tuesday Blitz\n",
            "processing: *** Titled Tuesday Blitz\n",
            "processing: *** Titled Tuesday Blitz\n",
            "processing: *** Titled Tuesday Blitz\n",
            "processing: *** Titled Tuesday Blitz\n",
            "processing: *** Titled Tuesday Blitz\n",
            "processing: *** Titled Tuesday Blitz\n",
            "processing: *** Titled Tuesday Blitz\n",
            "processing: *** Titled Tuesday Blitz\n",
            "processing: *** Titled Tuesday Blitz\n",
            "processing: *** Titled Tuesday Blitz\n",
            "processing: *** Titled Tuesday Blitz\n",
            "processing: *** Titled Tuesday Blitz\n",
            "processing: *** Titled Tuesday Blitz\n",
            "processing: *** Titled Tuesday Blitz\n",
            "processing: *** Titled Tuesday Blitz\n",
            "processing: *** Titled Tuesday Blitz\n",
            "processing: *** Titled Tuesday Blitz\n",
            "processing: *** Titled Tuesday Blitz\n",
            "processing: *** Titled Tuesday Blitz\n",
            "processing: *** Titled Tuesday Blitz\n",
            "processing: *** Titled Tuesday Blitz\n",
            "processing: *** Titled Tuesday Blitz\n",
            "processing: *** Titled Tuesday Blitz\n",
            "processing: *** Titled Tuesday Blitz\n",
            "processing: *** Titled Tuesday Blitz\n",
            "processing: *** Titled Tuesday Blitz\n",
            "processing: *** Titled Tuesday Blitz\n",
            "processing: *** Titled Tuesday Blitz\n",
            "processing: *** Titled Tuesday Blitz\n",
            "processing: *** Titled Tuesday Blitz\n",
            "processing: *** Titled Tuesday Blitz\n",
            "processing: *** Titled Tuesday Blitz\n",
            "processing: *** Titled Tuesday Blitz\n",
            "processing: *** Titled Tuesday Blitz\n",
            "processing: *** Titled Tuesday Blitz\n",
            "processing: *** Titled Tuesday Blitz\n",
            "processing: *** Titled Tuesday Blitz\n",
            "processing: *** Titled Tuesday Blitz\n",
            "processing: *** Titled Tuesday Blitz\n",
            "processing: *** Titled Tuesday Blitz\n",
            "processing: *** Titled Tuesday Blitz\n",
            "processing: *** Titled Tuesday Blitz\n",
            "processing: *** Titled Tuesday Blitz AM\n",
            "processing: Early-Titled-Tuesday-Blitz-April-04-2023\n",
            "processing: Early-Titled-Tuesday-Blitz-April-05-2022\n",
            "processing: Early-Titled-Tuesday-Blitz-April-11-2023\n",
            "processing: Early-Titled-Tuesday-Blitz-April-12-2022\n",
            "processing: Early-Titled-Tuesday-Blitz-April-18-2023\n",
            "processing: Early-Titled-Tuesday-Blitz-April-19-2022\n",
            "processing: Early-Titled-Tuesday-Blitz-April-25-2023\n",
            "processing: Early-Titled-Tuesday-Blitz-April-26-2022\n",
            "processing: Early-Titled-Tuesday-Blitz-August-01-2023\n",
            "processing: Early-Titled-Tuesday-Blitz-August-02-2022\n",
            "processing: Early-Titled-Tuesday-Blitz-August-08-2023\n",
            "processing: Early-Titled-Tuesday-Blitz-August-09-2022\n",
            "processing: Early-Titled-Tuesday-Blitz-August-15-2023\n",
            "processing: Early-Titled-Tuesday-Blitz-August-16-2022\n",
            "processing: Early-Titled-Tuesday-Blitz-August-22-2023\n",
            "processing: Early-Titled-Tuesday-Blitz-August-23-2022\n",
            "processing: Early-Titled-Tuesday-Blitz-August-29-2023\n",
            "processing: Early-Titled-Tuesday-Blitz-August-30-2022\n",
            "processing: Early-Titled-Tuesday-Blitz-December-06-2022\n",
            "processing: Early-Titled-Tuesday-Blitz-December-13-2022\n",
            "processing: Early-Titled-Tuesday-Blitz-December-20-2022\n",
            "processing: Early-Titled-Tuesday-Blitz-December-27-2022\n",
            "processing: Early-Titled-Tuesday-Blitz-February-07-2023\n",
            "processing: Early-Titled-Tuesday-Blitz-February-08-2022\n",
            "processing: Early-Titled-Tuesday-Blitz-February-14-2023\n",
            "processing: Early-Titled-Tuesday-Blitz-February-15-2022\n",
            "processing: Early-Titled-Tuesday-Blitz-February-21-2023\n",
            "processing: Early-Titled-Tuesday-Blitz-February-22-2022\n",
            "processing: Early-Titled-Tuesday-Blitz-February-28-2023\n",
            "processing: Early-Titled-Tuesday-Blitz-January-03-2023\n",
            "processing: Early-Titled-Tuesday-Blitz-January-10-2023\n",
            "processing: Early-Titled-Tuesday-Blitz-January-17-2023\n",
            "processing: Early-Titled-Tuesday-Blitz-January-31-2023\n",
            "processing: Early-Titled-Tuesday-Blitz-July-04-2023\n",
            "processing: Early-Titled-Tuesday-Blitz-July-05-2022\n",
            "processing: Early-Titled-Tuesday-Blitz-July-11-2023\n",
            "processing: Early-Titled-Tuesday-Blitz-July-12-2022\n",
            "processing: Early-Titled-Tuesday-Blitz-July-18-2023\n",
            "processing: Early-Titled-Tuesday-Blitz-July-19-2022\n",
            "processing: Early-Titled-Tuesday-Blitz-July-25-2023\n",
            "processing: Early-Titled-Tuesday-Blitz-July-26-2022\n",
            "processing: Early-Titled-Tuesday-Blitz-June-06-2023\n",
            "processing: Early-Titled-Tuesday-Blitz-June-07-2022\n",
            "processing: Early-Titled-Tuesday-Blitz-June-13-2023\n",
            "processing: Early-Titled-Tuesday-Blitz-June-14-2022\n",
            "processing: Early-Titled-Tuesday-Blitz-June-20-2023\n",
            "processing: Early-Titled-Tuesday-Blitz-June-21-2022\n",
            "processing: Early-Titled-Tuesday-Blitz-June-27-2023\n",
            "processing: Early-Titled-Tuesday-Blitz-June-28-2022\n",
            "processing: Early-Titled-Tuesday-Blitz-March-01-2022\n",
            "processing: Early-Titled-Tuesday-Blitz-March-07-2023\n",
            "processing: Early-Titled-Tuesday-Blitz-March-08-2022\n",
            "processing: Early-Titled-Tuesday-Blitz-March-14-2023\n",
            "processing: Early-Titled-Tuesday-Blitz-March-15-2022\n",
            "processing: Early-Titled-Tuesday-Blitz-March-21-2023\n",
            "processing: Early-Titled-Tuesday-Blitz-March-22-2022\n",
            "processing: Early-Titled-Tuesday-Blitz-March-28-2023\n",
            "processing: Early-Titled-Tuesday-Blitz-March-29-2022\n",
            "processing: Early-Titled-Tuesday-Blitz-May-02-2023\n",
            "processing: Early-Titled-Tuesday-Blitz-May-03-2022\n",
            "processing: Early-Titled-Tuesday-Blitz-May-09-2023\n",
            "processing: Early-Titled-Tuesday-Blitz-May-10-2022\n",
            "processing: Early-Titled-Tuesday-Blitz-May-16-2023\n",
            "processing: Early-Titled-Tuesday-Blitz-May-17-2022\n",
            "processing: Early-Titled-Tuesday-Blitz-May-23-2023\n",
            "processing: Early-Titled-Tuesday-Blitz-May-24-2022\n",
            "processing: Early-Titled-Tuesday-Blitz-May-30-2023\n",
            "processing: Early-Titled-Tuesday-Blitz-May-31-2022\n",
            "processing: Early-Titled-Tuesday-Blitz-November-01-2022\n",
            "processing: Early-Titled-Tuesday-Blitz-November-08-2022\n",
            "processing: Early-Titled-Tuesday-Blitz-November-15-2022\n",
            "processing: Early-Titled-Tuesday-Blitz-November-22-2022\n",
            "processing: Early-Titled-Tuesday-Blitz-November-29-2022\n",
            "processing: Early-Titled-Tuesday-Blitz-October-03-2023\n",
            "processing: Early-Titled-Tuesday-Blitz-October-04-2022\n",
            "processing: Early-Titled-Tuesday-Blitz-October-10-2023\n",
            "processing: Early-Titled-Tuesday-Blitz-October-11-2022\n",
            "processing: Early-Titled-Tuesday-Blitz-October-17-2023\n",
            "processing: Early-Titled-Tuesday-Blitz-October-18-2022\n",
            "processing: Early-Titled-Tuesday-Blitz-October-24-2023\n",
            "processing: Early-Titled-Tuesday-Blitz-October-25-2022\n",
            "processing: Early-Titled-Tuesday-Blitz-September-05-2023\n",
            "processing: Early-Titled-Tuesday-Blitz-September-06-2022\n",
            "processing: Early-Titled-Tuesday-Blitz-September-12-2023\n",
            "processing: Early-Titled-Tuesday-Blitz-September-13-2022\n",
            "processing: Early-Titled-Tuesday-Blitz-September-19-2023\n",
            "processing: Early-Titled-Tuesday-Blitz-September-20-2022\n",
            "processing: Early-Titled-Tuesday-Blitz-September-26-2023\n",
            "processing: Early-Titled-Tuesday-Blitz-September-27-2022\n",
            "processing: Late-Titled-Tuesday-Blitz-April-04-2023\n",
            "processing: Late-Titled-Tuesday-Blitz-April-05-2022\n",
            "processing: Late-Titled-Tuesday-Blitz-April-11-2023\n",
            "processing: Late-Titled-Tuesday-Blitz-April-12-2022\n",
            "processing: Late-Titled-Tuesday-Blitz-April-18-2023\n",
            "processing: Late-Titled-Tuesday-Blitz-April-19-2022\n",
            "processing: Late-Titled-Tuesday-Blitz-April-25-2023\n",
            "processing: Late-Titled-Tuesday-Blitz-April-26-2022\n",
            "processing: Late-Titled-Tuesday-Blitz-August-01-2023\n",
            "processing: Late-Titled-Tuesday-Blitz-August-02-2022\n",
            "processing: Late-Titled-Tuesday-Blitz-August-08-2023\n",
            "processing: Late-Titled-Tuesday-Blitz-August-09-2022\n",
            "processing: Late-Titled-Tuesday-Blitz-August-15-2023\n",
            "processing: Late-Titled-Tuesday-Blitz-August-16-2022\n",
            "processing: Late-Titled-Tuesday-Blitz-August-22-2023\n",
            "processing: Late-Titled-Tuesday-Blitz-August-23-2022\n",
            "processing: Late-Titled-Tuesday-Blitz-August-29-2023\n",
            "processing: Late-Titled-Tuesday-Blitz-August-30-2022\n",
            "processing: Late-Titled-Tuesday-Blitz-December-06-2022\n",
            "processing: Late-Titled-Tuesday-Blitz-December-13-2022\n",
            "processing: Late-Titled-Tuesday-Blitz-December-20-2022\n",
            "processing: Late-Titled-Tuesday-Blitz-December-27-2022\n",
            "processing: Late-Titled-Tuesday-Blitz-February-07-2023\n",
            "processing: Late-Titled-Tuesday-Blitz-February-08-2022\n",
            "processing: Late-Titled-Tuesday-Blitz-February-14-2023\n",
            "processing: Late-Titled-Tuesday-Blitz-February-15-2022\n",
            "processing: Late-Titled-Tuesday-Blitz-February-21-2023\n",
            "processing: Late-Titled-Tuesday-Blitz-February-22-2022\n",
            "processing: Late-Titled-Tuesday-Blitz-February-28-2023\n",
            "processing: Late-Titled-Tuesday-Blitz-January-03-2023\n",
            "processing: Late-Titled-Tuesday-Blitz-January-10-2023\n",
            "processing: Late-Titled-Tuesday-Blitz-January-17-2023\n",
            "processing: Late-Titled-Tuesday-Blitz-January-24-2023\n",
            "processing: Late-Titled-Tuesday-Blitz-January-31-2023\n",
            "processing: Late-Titled-Tuesday-Blitz-July-04-2023\n",
            "processing: Late-Titled-Tuesday-Blitz-July-05-2022\n",
            "processing: Late-Titled-Tuesday-Blitz-July-11-2023\n",
            "processing: Late-Titled-Tuesday-Blitz-July-12-2022\n",
            "processing: Late-Titled-Tuesday-Blitz-July-18-2023\n",
            "processing: Late-Titled-Tuesday-Blitz-July-19-2022\n",
            "processing: Late-Titled-Tuesday-Blitz-July-25-2023\n",
            "processing: Late-Titled-Tuesday-Blitz-July-26-2022\n",
            "processing: Late-Titled-Tuesday-Blitz-June-06-2023\n",
            "processing: Late-Titled-Tuesday-Blitz-June-07-2022\n",
            "processing: Late-Titled-Tuesday-Blitz-June-13-2023\n",
            "processing: Late-Titled-Tuesday-Blitz-June-14-2022\n",
            "processing: Late-Titled-Tuesday-Blitz-June-20-2023\n",
            "processing: Late-Titled-Tuesday-Blitz-June-21-2022\n",
            "processing: Late-Titled-Tuesday-Blitz-June-27-2023\n",
            "processing: Late-Titled-Tuesday-Blitz-June-28-2022\n",
            "processing: Late-Titled-Tuesday-Blitz-March-01-2022\n",
            "processing: Late-Titled-Tuesday-Blitz-March-07-2023\n",
            "processing: Late-Titled-Tuesday-Blitz-March-08-2022\n",
            "processing: Late-Titled-Tuesday-Blitz-March-14-2023\n",
            "processing: Late-Titled-Tuesday-Blitz-March-15-2022\n",
            "processing: Late-Titled-Tuesday-Blitz-March-21-2023\n",
            "processing: Late-Titled-Tuesday-Blitz-March-22-2022\n",
            "processing: Late-Titled-Tuesday-Blitz-March-28-2023\n",
            "processing: Late-Titled-Tuesday-Blitz-March-29-2022\n",
            "processing: Late-Titled-Tuesday-Blitz-May-02-2023\n",
            "processing: Late-Titled-Tuesday-Blitz-May-03-2022\n",
            "processing: Late-Titled-Tuesday-Blitz-May-09-2023\n",
            "processing: Late-Titled-Tuesday-Blitz-May-10-2022\n",
            "processing: Late-Titled-Tuesday-Blitz-May-16-2023\n",
            "processing: Late-Titled-Tuesday-Blitz-May-17-2022\n",
            "processing: Late-Titled-Tuesday-Blitz-May-23-2023\n",
            "processing: Late-Titled-Tuesday-Blitz-May-24-2022\n"
          ]
        }
      ],
      "source": [
        "events = []\n",
        "for i in file_names:\n",
        "  r = requests.get(base_url+i)\n",
        "  soup = BeautifulSoup(r.content, 'html.parser')\n",
        "  name_el = soup.find('h1', class_='v5-title-label')\n",
        "  name = name_el.get_text().strip()\n",
        "  print(\"processing: \" + name)\n",
        "  stats_el = soup.find('div', class_='tournaments-live-view-content-stats')\n",
        "  span_elements = stats_el.find_all('span')\n",
        "  number_of_players = int(span_elements[1].get_text(strip=True).split()[0])\n",
        "  date_and_time = span_elements[2].get_text(strip=True)\n",
        "  parsed_date = datetime.strptime(date_and_time, \"%b %d, %Y, %I:%M %p\")\n",
        "  formatted_date = parsed_date.strftime(\"%d.%m.%Y\")\n",
        "  formatted_time = parsed_date.strftime(\"%I:%M %p\").replace('\\u202f', ' ')\n",
        "  event = {\n",
        "    \"title\": name,\n",
        "    \"num_players\": number_of_players,\n",
        "    \"date\": formatted_date,\n",
        "    \"time\": formatted_time,\n",
        "    \"tourney_link\": base_url+i,\n",
        "    \"data\": f\"https://github.com/cmgchess/Titled-Tuesday-Data/blob/main/{i}.json\"\n",
        "  }\n",
        "  events.append(event)"
      ]
    },
    {
      "cell_type": "code",
      "execution_count": null,
      "metadata": {
        "id": "GSM_V_5nccxN"
      },
      "outputs": [],
      "source": [
        "events.sort(key=lambda x: (datetime.strptime(x[\"date\"], \"%d.%m.%Y\"), x[\"time\"]), reverse=True)\n"
      ]
    },
    {
      "cell_type": "code",
      "execution_count": null,
      "metadata": {
        "id": "ZiLtie4IdIi-"
      },
      "outputs": [],
      "source": [
        "grouped_data = {}\n",
        "for year, items in groupby(events, key=lambda x: datetime.strptime(x[\"date\"], \"%d.%m.%Y\").year):\n",
        "    grouped_data[year] = list(items)\n"
      ]
    },
    {
      "cell_type": "code",
      "execution_count": 13,
      "metadata": {
        "colab": {
          "base_uri": "https://localhost:8080/"
        },
        "id": "fdJ41_f6dH5V",
        "outputId": "51009b5f-dfec-4bcc-f8bb-a6a38fc0367b"
      },
      "outputs": [
        {
          "name": "stdout",
          "output_type": "stream",
          "text": [
            "written: /content/drive/MyDrive/TTChesscom/Ranks/tournament_meta.json\n"
          ]
        }
      ],
      "source": [
        "output_filename = f\"/content/drive/MyDrive/TTChesscom/Ranks/tournament_meta.json\"\n",
        "with open(output_filename, 'w') as json_file:\n",
        "  json.dump(grouped_data, json_file, indent=4)\n",
        "print(\"written: \" + output_filename)"
      ]
    },
    {
      "cell_type": "code",
      "execution_count": 14,
      "metadata": {
        "id": "OjAY3WNAl1Rz"
      },
      "outputs": [],
      "source": [
        "from tabulate import tabulate\n"
      ]
    },
    {
      "cell_type": "code",
      "execution_count": 25,
      "metadata": {
        "id": "eHpxDtq4mjXI"
      },
      "outputs": [],
      "source": [
        "custom_headers = {\n",
        "    \"title\": \"Title\",\n",
        "    \"num_players\": \"Number of Players\",\n",
        "    \"date\": \"Date\",\n",
        "    \"time\": \"Time\",\n",
        "    \"tourney_link\": \"Tournament Link\",\n",
        "    \"data\": \"Rank List\"\n",
        "}\n",
        "headers = [\"Title\",\"Number of Players\",\"Date\",\"Time\",\"Tournament Link\",\"Rank List\"]"
      ]
    },
    {
      "cell_type": "code",
      "execution_count": 40,
      "metadata": {
        "id": "BPZICA7gl5J_"
      },
      "outputs": [],
      "source": [
        "for year, entries in grouped_data.items():\n",
        "    file_name = f\"{year}.md\"\n",
        "    entries_with_custom_names = [{custom_headers.get(col, col): value for col, value in entry.items()} for entry in entries]\n",
        "    for entry in entries_with_custom_names:\n",
        "      if 'Title' in entry:\n",
        "        entry['Title'] = entry['Title'].replace(\"|\", \"\\\\|\")\n",
        "      if 'Tournament Link' in entry:\n",
        "        entry['Tournament Link'] = f\"[Link]({entry['Tournament Link']})\"\n",
        "      if 'Rank List' in entry:\n",
        "        entry['Rank List'] = f\"[Link]({entry['Rank List']})\"\n",
        "    table = tabulate(entries_with_custom_names,headers=\"keys\", tablefmt=\"github\")\n",
        "    with open(file_name, \"w\") as file:\n",
        "        file.write(table)"
      ]
    }
  ],
  "metadata": {
    "colab": {
      "provenance": []
    },
    "kernelspec": {
      "display_name": "Python 3",
      "name": "python3"
    },
    "language_info": {
      "name": "python"
    }
  },
  "nbformat": 4,
  "nbformat_minor": 0
}
